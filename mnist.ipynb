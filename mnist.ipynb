{
  "nbformat": 4,
  "nbformat_minor": 0,
  "metadata": {
    "colab": {
      "provenance": []
    },
    "kernelspec": {
      "name": "python3",
      "display_name": "Python 3"
    },
    "language_info": {
      "name": "python"
    }
  },
  "cells": [
    {
      "cell_type": "code",
      "execution_count": null,
      "metadata": {
        "id": "VZ_ruSFIMwlu"
      },
      "outputs": [],
      "source": [
        "import numpy as np\n",
        "import tensorflow as tf\n",
        "from tensorflow.keras.datasets import mnist\n",
        "from tensorflow.keras.layers import Input,Dense\n",
        "from tensorflow.keras.models import Sequential\n",
        "from tensorflow.keras.callbacks import EarlyStopping\n",
        "import matplotlib.pyplot as plt"
      ]
    },
    {
      "cell_type": "code",
      "source": [
        "pip install keras\n"
      ],
      "metadata": {
        "colab": {
          "base_uri": "https://localhost:8080/"
        },
        "id": "B-qxmnHNUdYO",
        "outputId": "87f368ac-84bc-47da-c63a-7b6cedea1995"
      },
      "execution_count": null,
      "outputs": [
        {
          "output_type": "stream",
          "name": "stdout",
          "text": [
            "Requirement already satisfied: keras in /usr/local/lib/python3.10/dist-packages (2.15.0)\n"
          ]
        }
      ]
    },
    {
      "cell_type": "code",
      "source": [
        "(x_train, y_train), (x_test, y_test)=mnist.load_data()\n"
      ],
      "metadata": {
        "id": "BzlMyhkFOFBg"
      },
      "execution_count": null,
      "outputs": []
    },
    {
      "cell_type": "code",
      "source": [
        "x_train = x_train.reshape(-1,784)\n",
        "x_test = x_test.reshape(-1,784)"
      ],
      "metadata": {
        "id": "nAnN70hAOL3l"
      },
      "execution_count": null,
      "outputs": []
    },
    {
      "cell_type": "code",
      "source": [
        "y_train = tf.keras.utils.to_categorical(y_train,num_classes = 10)\n",
        "y_test = tf.keras.utils.to_categorical(y_test,num_classes = 10)\n"
      ],
      "metadata": {
        "id": "rdh_dxoaOJ0X"
      },
      "execution_count": null,
      "outputs": []
    },
    {
      "cell_type": "code",
      "source": [
        "model = Sequential([\n",
        "Dense(50, input_shape=(784,),activation = 'sigmoid'), #first hidden Layer\n",
        "Dense(50, activation='sigmoid'), #second hidden Layer\n",
        "Dense (10) #output layer\n",
        "])"
      ],
      "metadata": {
        "id": "Ax6GXMcbOjS9"
      },
      "execution_count": null,
      "outputs": []
    },
    {
      "cell_type": "code",
      "source": [
        "#compile the model\n",
        "\n",
        "model.compile(optimizer=tf.keras.optimizers.Adam(learning_rate=0.001),\n",
        "              loss = tf.keras.losses.CategoricalCrossentropy(from_logits = True),\n",
        "              metrics=[\"accuracy\"])"
      ],
      "metadata": {
        "id": "m0LnfbN7PAGF"
      },
      "execution_count": null,
      "outputs": []
    },
    {
      "cell_type": "code",
      "source": [
        "#train the model\n",
        "\n",
        "from tensorflow.keras.callbacks import EarlyStopping\n",
        "\n",
        "batch_size = 100\n",
        "max_epochs = 30\n",
        "early_stopping = EarlyStopping(patience=2, restore_best_weights=True)\n",
        "history = model.fit(x_train, y_train, batch_size=batch_size, epochs=max_epochs, validation_data=(x_test, y_test),\n",
        "                    callbacks=[early_stopping])\n",
        "\n"
      ],
      "metadata": {
        "id": "2NQojeEiQRj2",
        "colab": {
          "base_uri": "https://localhost:8080/"
        },
        "outputId": "7892f854-125b-4f84-99a9-59877aa76d2a"
      },
      "execution_count": null,
      "outputs": [
        {
          "output_type": "stream",
          "name": "stdout",
          "text": [
            "Epoch 1/30\n",
            "600/600 [==============================] - 4s 5ms/step - loss: 1.0275 - accuracy: 0.7524 - val_loss: 0.4984 - val_accuracy: 0.8800\n",
            "Epoch 2/30\n",
            "600/600 [==============================] - 2s 4ms/step - loss: 0.4265 - accuracy: 0.8845 - val_loss: 0.3549 - val_accuracy: 0.8964\n",
            "Epoch 3/30\n",
            "600/600 [==============================] - 8s 13ms/step - loss: 0.3596 - accuracy: 0.8949 - val_loss: 0.3245 - val_accuracy: 0.9073\n",
            "Epoch 4/30\n",
            "600/600 [==============================] - 5s 8ms/step - loss: 0.3341 - accuracy: 0.8995 - val_loss: 0.3235 - val_accuracy: 0.8992\n",
            "Epoch 5/30\n",
            "600/600 [==============================] - 5s 9ms/step - loss: 0.3064 - accuracy: 0.9072 - val_loss: 0.2692 - val_accuracy: 0.9199\n",
            "Epoch 6/30\n",
            "600/600 [==============================] - 5s 9ms/step - loss: 0.3036 - accuracy: 0.9099 - val_loss: 0.2978 - val_accuracy: 0.9079\n",
            "Epoch 7/30\n",
            "600/600 [==============================] - 3s 6ms/step - loss: 0.2923 - accuracy: 0.9125 - val_loss: 0.2784 - val_accuracy: 0.9168\n"
          ]
        }
      ]
    },
    {
      "cell_type": "code",
      "source": [
        "model.save('mnist_model')"
      ],
      "metadata": {
        "id": "rUs54zgvUbSv"
      },
      "execution_count": null,
      "outputs": []
    },
    {
      "cell_type": "code",
      "source": [
        "#Loss and accuracy\n",
        "test_loss, test_accuracy = model.evaluate(x_test,y_test)\n",
        "\n",
        "test_accuracy_percentage = test_accuracy*100"
      ],
      "metadata": {
        "colab": {
          "base_uri": "https://localhost:8080/"
        },
        "id": "6232xN6C1Uf-",
        "outputId": "1e4733a6-eea4-40da-c64a-af84e95e4099"
      },
      "execution_count": null,
      "outputs": [
        {
          "output_type": "stream",
          "name": "stdout",
          "text": [
            "313/313 [==============================] - 1s 3ms/step - loss: 0.2692 - accuracy: 0.9199\n"
          ]
        }
      ]
    },
    {
      "cell_type": "code",
      "source": [
        "#print the model\n",
        "\n",
        "print(test_accuracy_percentage)"
      ],
      "metadata": {
        "colab": {
          "base_uri": "https://localhost:8080/"
        },
        "id": "ir9JHgAx2z8J",
        "outputId": "b71dffe1-2ed7-4efa-cbfa-c28166fbd4dc"
      },
      "execution_count": null,
      "outputs": [
        {
          "output_type": "stream",
          "name": "stdout",
          "text": [
            "91.99000000953674\n"
          ]
        }
      ]
    },
    {
      "cell_type": "code",
      "source": [
        "#Load the saved model\n",
        "\n",
        "loaded_model = tf.keras.models.load_model('mnist_model')"
      ],
      "metadata": {
        "id": "yefGmxxX28Wu"
      },
      "execution_count": null,
      "outputs": []
    },
    {
      "cell_type": "code",
      "source": [
        "import numpy as np\n",
        "import matplotlib.pyplot as plt\n",
        "\n",
        "\n",
        "#Load MNIST dato\n",
        "\n",
        "(_,_),(x_test, y_test)= mnist.load_data()\n",
        "\n",
        "#Plot some sample images\n",
        "\n",
        "num_samples =16\n",
        "\n",
        "plt.figure(figsize=(15, 6))\n",
        "\n",
        "for i in range(num_samples):\n",
        "  plt.subplot(1, num_samples, i+1)\n",
        "  plt.imshow(x_test[i], cmap='gray')\n",
        "  plt.title(f\"Label: {y_test[i]}\")\n",
        "  plt.axis('off')\n",
        "  plt.show()\n",
        "\n"
      ],
      "metadata": {
        "colab": {
          "base_uri": "https://localhost:8080/",
          "height": 1000
        },
        "id": "w1qwFzlh3YiO",
        "outputId": "d4f0b466-5ff7-4698-bd7d-9fc72fa19170"
      },
      "execution_count": null,
      "outputs": [
        {
          "output_type": "display_data",
          "data": {
            "text/plain": [
              "<Figure size 1500x600 with 1 Axes>"
            ],
            "image/png": "[encoded data removed]"
          },
          "metadata": {}
        },
        {
          "output_type": "display_data",
          "data": {
            "text/plain": [
              "<Figure size 640x480 with 1 Axes>"
            ],
            "image/png": "[encoded data removed]"
          },
          "metadata": {}
        },
        {
          "output_type": "display_data",
          "data": {
            "text/plain": [
              "<Figure size 640x480 with 1 Axes>"
            ],
            "image/png": "[encoded data removed]"
          },
          "metadata": {}
        },
        {
          "output_type": "display_data",
          "data": {
            "text/plain": [
              "<Figure size 640x480 with 1 Axes>"
            ],
            "image/png": "[encoded data removed]"
          },
          "metadata": {}
        },
        {
          "output_type": "display_data",
          "data": {
            "text/plain": [
              "<Figure size 640x480 with 1 Axes>"
            ],
            "image/png": "[encoded data removed]"
          },
          "metadata": {}
        },
        {
          "output_type": "display_data",
          "data": {
            "text/plain": [
              "<Figure size 640x480 with 1 Axes>"
            ],
            "image/png": "[encoded data removed]"
          },
          "metadata": {}
        },
        {
          "output_type": "display_data",
          "data": {
            "text/plain": [
              "<Figure size 640x480 with 1 Axes>"
            ],
            "image/png": "[encoded data removed]"
          },
          "metadata": {}
        },
        {
          "output_type": "display_data",
          "data": {
            "text/plain": [
              "<Figure size 640x480 with 1 Axes>"
            ],
            "image/png": "[encoded data removed]"
          },
          "metadata": {}
        },
        {
          "output_type": "display_data",
          "data": {
            "text/plain": [
              "<Figure size 640x480 with 1 Axes>"
            ],
            "image/png": "[encoded data removed]"
          },
          "metadata": {}
        },
        {
          "output_type": "display_data",
          "data": {
            "text/plain": [
              "<Figure size 640x480 with 1 Axes>"
            ],
            "image/png": "[encoded data removed]"
          },
          "metadata": {}
        },
        {
          "output_type": "display_data",
          "data": {
            "text/plain": [
              "<Figure size 640x480 with 1 Axes>"
            ],
            "image/png": "[encoded data removed]"
          },
          "metadata": {}
        },
        {
          "output_type": "display_data",
          "data": {
            "text/plain": [
              "<Figure size 640x480 with 1 Axes>"
            ],
            "image/png": "[encoded data removed]"
          },
          "metadata": {}
        },
        {
          "output_type": "display_data",
          "data": {
            "text/plain": [
              "<Figure size 640x480 with 1 Axes>"
            ],
            "image/png": "[encoded data removed]"
          },
          "metadata": {}
        },
        {
          "output_type": "display_data",
          "data": {
            "text/plain": [
              "<Figure size 640x480 with 1 Axes>"
            ],
            "image/png": "[encoded data removed]"
          },
          "metadata": {}
        },
        {
          "output_type": "display_data",
          "data": {
            "text/plain": [
              "<Figure size 640x480 with 1 Axes>"
            ],
            "image/png": "[encoded data removed]"
          },
          "metadata": {}
        },
        {
          "output_type": "display_data",
          "data": {
            "text/plain": [
              "<Figure size 640x480 with 1 Axes>"
            ],
            "image/png": "[encoded data removed]"
          },
          "metadata": {}
        }
      ]
    },
    {
      "cell_type": "code",
      "source": [
        "#Select an indes for the image you want to use\n",
        "\n",
        "Index = 0"
      ],
      "metadata": {
        "id": "m0AjbmQU9fwo"
      },
      "execution_count": null,
      "outputs": []
    },
    {
      "cell_type": "code",
      "source": [
        "# Define the index of the image you want to preprocess and predict\n",
        "index = 2\n",
        "\n",
        "# Preprocess the image\n",
        "input_size = 28 * 28\n",
        "preprocessed_image = x_test[index].reshape(1, input_size).astype('float32') / 255.0\n",
        "print(\"Preprocessed_image shape:\", preprocessed_image.shape)"
      ],
      "metadata": {
        "colab": {
          "base_uri": "https://localhost:8080/"
        },
        "id": "alBT3Oky9nK6",
        "outputId": "41f4a1f2-0a4e-4216-a877-9adaf659e0fa"
      },
      "execution_count": null,
      "outputs": [
        {
          "output_type": "stream",
          "name": "stdout",
          "text": [
            "Preprocessed_image shape: (1, 784)\n"
          ]
        }
      ]
    },
    {
      "cell_type": "code",
      "source": [
        "#Load the trained model\n",
        "\n",
        "model = tf.keras.models.load_model('mnist_model')\n"
      ],
      "metadata": {
        "id": "nHQm2h2C9qQE"
      },
      "execution_count": null,
      "outputs": []
    },
    {
      "cell_type": "code",
      "source": [
        "# Verify the model has been loaded\n",
        "model.summary()"
      ],
      "metadata": {
        "colab": {
          "base_uri": "https://localhost:8080/"
        },
        "id": "m2s7eUQi9wV0",
        "outputId": "31eb1018-808d-4e92-f351-537fdce91cf7"
      },
      "execution_count": null,
      "outputs": [
        {
          "output_type": "stream",
          "name": "stdout",
          "text": [
            "Model: \"sequential_2\"\n",
            "_________________________________________________________________\n",
            " Layer (type)                Output Shape              Param #   \n",
            "=================================================================\n",
            " dense_6 (Dense)             (None, 50)                39250     \n",
            "                                                                 \n",
            " dense_7 (Dense)             (None, 50)                2550      \n",
            "                                                                 \n",
            " dense_8 (Dense)             (None, 10)                510       \n",
            "                                                                 \n",
            "=================================================================\n",
            "Total params: 42310 (165.27 KB)\n",
            "Trainable params: 42310 (165.27 KB)\n",
            "Non-trainable params: 0 (0.00 Byte)\n",
            "_________________________________________________________________\n"
          ]
        }
      ]
    },
    {
      "cell_type": "code",
      "source": [
        "#make prediction\n",
        "\n",
        "predictions = model.predict(preprocessed_image)\n",
        "\n",
        "predicted_label=np.argmax(predictions)"
      ],
      "metadata": {
        "colab": {
          "base_uri": "https://localhost:8080/"
        },
        "id": "RzB40s6c9zbB",
        "outputId": "bdbd5211-16f9-467e-d165-71602020c625"
      },
      "execution_count": null,
      "outputs": [
        {
          "output_type": "stream",
          "name": "stdout",
          "text": [
            "1/1 [==============================] - 0s 103ms/step\n"
          ]
        }
      ]
    }
  ]
}